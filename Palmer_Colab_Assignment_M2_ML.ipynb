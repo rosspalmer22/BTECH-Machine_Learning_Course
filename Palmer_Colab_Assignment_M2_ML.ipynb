{
  "nbformat": 4,
  "nbformat_minor": 0,
  "metadata": {
    "colab": {
      "provenance": []
    },
    "kernelspec": {
      "name": "python3",
      "display_name": "Python 3"
    },
    "language_info": {
      "name": "python"
    }
  },
  "cells": [
    {
      "cell_type": "markdown",
      "source": [
        "# Module 2: Colab Assignment"
      ],
      "metadata": {
        "id": "t3MCi5oF3fzN"
      }
    },
    {
      "cell_type": "markdown",
      "source": [
        "## Become familiar using a Colab notebook"
      ],
      "metadata": {
        "id": "0IZswT6b4qzy"
      }
    },
    {
      "cell_type": "markdown",
      "source": [
        "**Problem 1: (20 pts)**\n",
        "\n",
        "Import `numpy` as `np` and `pandas` as `pd`\n"
      ],
      "metadata": {
        "id": "fx6lhhlIyjLa"
      }
    },
    {
      "cell_type": "code",
      "execution_count": 1,
      "metadata": {
        "id": "vQSOCmVTwEwC"
      },
      "outputs": [],
      "source": [
        "import pandas as pd\n",
        "import numpy as np"
      ]
    },
    {
      "cell_type": "markdown",
      "source": [
        "**Problem 2: (40 pts)**\n",
        "\n",
        "Create a simple DataFrame as follows:\n",
        "\n",
        "\n",
        "1. Create a 5x3 NumPy array\n",
        "2. Create a Python list that contains the column names (three columns in total)\n",
        "3. Create a DataFrame\n",
        "4. Print the DataFrame\n"
      ],
      "metadata": {
        "id": "VN80I_o9zbcs"
      }
    },
    {
      "cell_type": "code",
      "source": [
        "#Step 1\n",
        "array = np.zeros((5,3))"
      ],
      "metadata": {
        "id": "Y1450SL23I4r"
      },
      "execution_count": 6,
      "outputs": []
    },
    {
      "cell_type": "code",
      "source": [
        "#Step 2\n",
        "column_names = ['A', 'B', 'C']"
      ],
      "metadata": {
        "id": "VYKUlB214tL5"
      },
      "execution_count": 5,
      "outputs": []
    },
    {
      "cell_type": "code",
      "source": [
        "#Step 3\n",
        "df = pd.DataFrame(array, columns = column_names)\n"
      ],
      "metadata": {
        "id": "UY1XdVxE5QxK"
      },
      "execution_count": 13,
      "outputs": []
    },
    {
      "cell_type": "code",
      "source": [
        "#Step 4\n",
        "print(df)"
      ],
      "metadata": {
        "id": "KrHGhnoA55w5",
        "colab": {
          "base_uri": "https://localhost:8080/",
          "height": 0
        },
        "outputId": "a96f316f-7162-4239-ab97-953657fa669a"
      },
      "execution_count": 14,
      "outputs": [
        {
          "output_type": "stream",
          "name": "stdout",
          "text": [
            "     A    B    C\n",
            "0  0.0  0.0  0.0\n",
            "1  0.0  0.0  0.0\n",
            "2  0.0  0.0  0.0\n",
            "3  0.0  0.0  0.0\n",
            "4  0.0  0.0  0.0\n"
          ]
        }
      ]
    },
    {
      "cell_type": "markdown",
      "source": [
        "**Problem 3: (20 pts)**\n",
        "\n",
        "1. Write a function to convert seconds into minutes (output should be an integer number).\n",
        "2. Provide an example using this function and show on the screen the `input` and `output`. For example:\n",
        "\n",
        "`Input: Seconds = 125 `\n",
        "\n",
        "`Output: Minutes = 2`\n"
      ],
      "metadata": {
        "id": "qm876xFp6il9"
      }
    },
    {
      "cell_type": "code",
      "source": [
        "#Step 1\n",
        "minutes = seconds / 60"
      ],
      "metadata": {
        "id": "ocX8f1Ri7qvK"
      },
      "execution_count": null,
      "outputs": []
    },
    {
      "cell_type": "code",
      "source": [
        "#Step 2\n",
        "seconds = int(input(\"Please enter seconds: \"))\n",
        "minutes = seconds // 60\n",
        "print(f\"Minutes = {minutes}\")"
      ],
      "metadata": {
        "id": "XXLZuyam_5eA",
        "colab": {
          "base_uri": "https://localhost:8080/",
          "height": 0
        },
        "outputId": "a5cff26c-cefd-49df-e9df-03deb22a1cb0"
      },
      "execution_count": 29,
      "outputs": [
        {
          "output_type": "stream",
          "name": "stdout",
          "text": [
            "Please enter seconds: 122\n",
            "Minutes = 2\n"
          ]
        }
      ]
    },
    {
      "cell_type": "markdown",
      "source": [
        "**Problem 4: (20 pts)**\n",
        "\n",
        "Load the CSV data file as follows:\n",
        "\n",
        "1. Find the data file on Canvas.\n",
        "\n",
        "   Go to `Files` -> `Data Files` -> `SOCR-HeightWeight.csv`\n",
        "\n",
        "2. Upload the CSV file in Colab\n",
        "3. Load the CSV file into a DataFrame named `df`\n",
        "3. Print the DataFrame `df`"
      ],
      "metadata": {
        "id": "sSavgfsvcX2A"
      }
    },
    {
      "cell_type": "code",
      "source": [
        "#Step 3: To run this you need to do step 1 & 2 first.\n",
        "import pandas as pd\n",
        "df = pd.read_csv(\"SOCR-HeightWeight.csv\")"
      ],
      "metadata": {
        "id": "yo8TmOXUcWiB"
      },
      "execution_count": 30,
      "outputs": []
    },
    {
      "cell_type": "code",
      "source": [
        "#Step 4\n",
        "print(df)\n"
      ],
      "metadata": {
        "id": "yFfi4I0tngsb",
        "colab": {
          "base_uri": "https://localhost:8080/",
          "height": 0
        },
        "outputId": "bae6a33c-331a-42fc-f6ba-524504550c64"
      },
      "execution_count": 31,
      "outputs": [
        {
          "output_type": "stream",
          "name": "stdout",
          "text": [
            "       Index  Height(Inches)  Weight(Pounds)\n",
            "0          1        65.78331        112.9925\n",
            "1          2        71.51521        136.4873\n",
            "2          3        69.39874        153.0269\n",
            "3          4        68.21660        142.3354\n",
            "4          5        67.78781        144.2971\n",
            "...      ...             ...             ...\n",
            "24995  24996        69.50215        118.0312\n",
            "24996  24997        64.54826        120.1932\n",
            "24997  24998        64.69855        118.2655\n",
            "24998  24999        67.52918        132.2682\n",
            "24999  25000        68.87761        124.8742\n",
            "\n",
            "[25000 rows x 3 columns]\n"
          ]
        }
      ]
    }
  ]
}